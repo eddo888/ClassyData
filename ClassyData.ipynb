{
 "cells": [
  {
   "cell_type": "code",
   "execution_count": 1,
   "id": "b48d2bf3",
   "metadata": {},
   "outputs": [
    {
     "name": "stderr",
     "output_type": "stream",
     "text": [
      "\u001b[33m[\u001b[36m2022-08-14 11:44:09 \u001b[32mINFO\u001b[36m Crown\u001b[33m] \u001b[0m\u001b[0m__init__\u001b[0m(\u001b[32m<Handlers.Crown.Crown object at 0x110f6fe50>\u001b[0m, \u001b[32msqlite:///:memory:\u001b[0m, \u001b[32m:memory:\u001b[0m, \u001b[32mverbose\u001b[0m=\u001b[35mFalse\u001b[0m): \u001b[33m\u001b[0m\n"
     ]
    }
   ],
   "source": [
    "from bin.TopHat import TopHat\n",
    "th = TopHat()"
   ]
  },
  {
   "cell_type": "code",
   "execution_count": 2,
   "id": "84d2d17f",
   "metadata": {},
   "outputs": [
    {
     "name": "stdout",
     "output_type": "stream",
     "text": [
      "{\n",
      "    \"Fundamentals\": [\n",
      "        \"SchemaEventTarget\",\n",
      "        \"BigInteger\",\n",
      "        \"LargeBinary\",\n",
      "        \"Boolean\",\n",
      "        \"Integer\",\n",
      "        \"Emulated\",\n",
      "        \"String\",\n",
      "        \"Text\",\n",
      "        \"Date\",\n",
      "        \"DateTime\",\n",
      "        \"Numeric\",\n",
      "        \"Float\",\n",
      "        \"Indexable\",\n",
      "        \"Unicode\",\n",
      "        \"TypeEngine\",\n",
      "        \"TypeDecorator\",\n",
      "        \"SmallInteger\",\n",
      "        \"Concatenable\",\n",
      "        \"Time\",\n",
      "        \"ExternalType\",\n",
      "        \"Traversible\"\n",
      "    ],\n",
      "    \"SQL\": [\n",
      "        \"ARRAY\",\n",
      "        \"BIGINT\",\n",
      "        \"BLOB\",\n",
      "        \"BOOLEAN\",\n",
      "        \"CHAR\",\n",
      "        \"CLOB\",\n",
      "        \"DATE\",\n",
      "        \"DATETIME\",\n",
      "        \"DECIMAL\",\n",
      "        \"Enum\",\n",
      "        \"FLOAT\",\n",
      "        \"INT\",\n",
      "        \"INTEGER\",\n",
      "        \"Interval\",\n",
      "        \"JSON\",\n",
      "        \"MatchType\",\n",
      "        \"NCHAR\",\n",
      "        \"NUMERIC\",\n",
      "        \"NVARCHAR\",\n",
      "        \"NullType\",\n",
      "        \"PickleType\",\n",
      "        \"REAL\",\n",
      "        \"SMALLINT\",\n",
      "        \"SchemaType\",\n",
      "        \"TEXT\",\n",
      "        \"TIME\",\n",
      "        \"TIMESTAMP\",\n",
      "        \"TupleType\",\n",
      "        \"UnicodeText\",\n",
      "        \"UserDefinedType\",\n",
      "        \"VARCHAR\",\n",
      "        \"Variant\"\n",
      "    ],\n",
      "    \"Python\": [\n",
      "        \"Class\",\n",
      "        \"Module\"\n",
      "    ]\n",
      "}"
     ]
    }
   ],
   "source": [
    "th.getList()"
   ]
  },
  {
   "cell_type": "code",
   "execution_count": null,
   "id": "edd59ce3",
   "metadata": {},
   "outputs": [],
   "source": []
  }
 ],
 "metadata": {
  "kernelspec": {
   "display_name": "Python 3 (ipykernel)",
   "language": "python",
   "name": "python3"
  },
  "language_info": {
   "codemirror_mode": {
    "name": "ipython",
    "version": 3
   },
   "file_extension": ".py",
   "mimetype": "text/x-python",
   "name": "python",
   "nbconvert_exporter": "python",
   "pygments_lexer": "ipython3",
   "version": "3.9.13"
  }
 },
 "nbformat": 4,
 "nbformat_minor": 5
}
