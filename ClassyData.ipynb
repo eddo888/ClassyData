{
 "cells": [
  {
   "cell_type": "code",
   "execution_count": 31,
   "id": "b48d2bf3",
   "metadata": {},
   "outputs": [
    {
     "name": "stderr",
     "output_type": "stream",
     "text": [
      "\u001b[33m[\u001b[36m2022-08-17 09:31:53 \u001b[32mINFO\u001b[36m Crown\u001b[33m] \u001b[0m\u001b[0m__init__\u001b[0m(\u001b[32m<Handlers.Crown.Crown object at 0x112ec8df0>\u001b[0m, \u001b[32msqlite:///:memory:\u001b[0m, \u001b[32m:memory:\u001b[0m, \u001b[32mverbose\u001b[0m=\u001b[35mFalse\u001b[0m): \u001b[33m\u001b[0m\n"
     ]
    }
   ],
   "source": [
    "import json\n",
    "from jsonweb.decode import loader\n",
    "from jsonweb.encode import dumper\n",
    "from Perdy.pretty import prettyPrintLn\n",
    "from bin.TopHat import TopHat\n",
    "th = TopHat()"
   ]
  },
  {
   "cell_type": "code",
   "execution_count": 32,
   "id": "84d2d17f",
   "metadata": {},
   "outputs": [
    {
     "name": "stderr",
     "output_type": "stream",
     "text": [
      "\u001b[33m[\u001b[36m2022-08-17 09:32:07 \u001b[32mINFO\u001b[36m TopHat\u001b[33m] \u001b[0m\u001b[0mquery\u001b[0m(\u001b[32m<bin.TopHat.TopHat object at 0x112e2a2b0>\u001b[0m, \u001b[32mMyPackage:MyClass\u001b[0m): \u001b[33m<Classes.Class.Class object at 0x112e7fb80>\u001b[0m\n"
     ]
    },
    {
     "name": "stdout",
     "output_type": "stream",
     "text": [
      "\u001b[35m{\u001b[0m\n",
      "  \"\u001b[32mabstract\u001b[0m\" : \u001b[31mfalse\u001b[0m,\n",
      "  \"\u001b[32maccessors\u001b[0m\" : \u001b[36m[\u001b[0m\n",
      "  \u001b[36m]\u001b[0m,\n",
      "  \"\u001b[32mattributes\u001b[0m\" : \u001b[36m[\u001b[0m\n",
      "  \u001b[36m]\u001b[0m,\n",
      "  \"\u001b[32mdescription\u001b[0m\" : \u001b[0mnull\u001b[0m,\n",
      "  \"\u001b[32mdisplay\u001b[0m\" : \u001b[0mnull\u001b[0m,\n",
      "  \"\u001b[32mfromDate\u001b[0m\" : \"\u001b[31m1980-01-01T00:00:00\u001b[0m\",\n",
      "  \"\u001b[32mguid\u001b[0m\" : \"\u001b[31mbfd3cc05-b9d7-4cbe-871c-4334f4aabf4f\u001b[0m\",\n",
      "  \"\u001b[32mid\u001b[0m\" : \u001b[31m\"60\"\u001b[0m,\n",
      "  \"\u001b[32misLabel\u001b[0m\" : \u001b[0mnull\u001b[0m,\n",
      "  \"\u001b[32mmethods\u001b[0m\" : \u001b[36m[\u001b[0m\n",
      "  \u001b[36m]\u001b[0m,\n",
      "  \"\u001b[32mmodified\u001b[0m\" : \"\u001b[31m2022-08-17T09:31:53\u001b[0m\",\n",
      "  \"\u001b[32mmodifiers\u001b[0m\" : \u001b[0mnull\u001b[0m,\n",
      "  \"\u001b[32mname\u001b[0m\" : \"\u001b[31mMyClass\u001b[0m\",\n",
      "  \"\u001b[36mpackage\u001b[0m\" : \u001b[35m{\u001b[0m\n",
      "    \"\u001b[32maccessors\u001b[0m\" : \u001b[36m[\u001b[0m\n",
      "    \u001b[36m]\u001b[0m,\n",
      "    \"\u001b[32mdescription\u001b[0m\" : \u001b[0mnull\u001b[0m,\n",
      "    \"\u001b[32mdisplay\u001b[0m\" : \u001b[0mnull\u001b[0m,\n",
      "    \"\u001b[32mfromDate\u001b[0m\" : \"\u001b[31m1980-01-01T00:00:00\u001b[0m\",\n",
      "    \"\u001b[32mguid\u001b[0m\" : \u001b[0mnull\u001b[0m,\n",
      "    \"\u001b[32mid\u001b[0m\" : \u001b[31m\"59\"\u001b[0m,\n",
      "    \"\u001b[32misLabel\u001b[0m\" : \u001b[0mnull\u001b[0m,\n",
      "    \"\u001b[32mmodified\u001b[0m\" : \"\u001b[31m2022-08-17T09:31:53\u001b[0m\",\n",
      "    \"\u001b[32mmodifiers\u001b[0m\" : \u001b[0mnull\u001b[0m,\n",
      "    \"\u001b[32mname\u001b[0m\" : \"\u001b[31mMyPackage\u001b[0m\",\n",
      "    \"\u001b[32mpackage\u001b[0m\" : \u001b[0mnull\u001b[0m,\n",
      "    \"\u001b[32mpackage_id\u001b[0m\" : \u001b[0mnull\u001b[0m,\n",
      "    \"\u001b[32mpath\u001b[0m\" : \u001b[0mnull\u001b[0m,\n",
      "    \"\u001b[32mrobes\u001b[0m\" : \u001b[0mnull\u001b[0m,\n",
      "    \"\u001b[32mtoDate\u001b[0m\" : \u001b[0mnull\u001b[0m,\n",
      "    \"\u001b[32murl\u001b[0m\" : \u001b[0mnull\u001b[0m,\n",
      "    \"\u001b[32mversion\u001b[0m\" : \u001b[0mnull\u001b[0m,\n",
      "    \"\u001b[32m__type__\u001b[0m\" : \"\u001b[31mPackage\u001b[0m\"\n",
      "  \u001b[35m}\u001b[0m,\n",
      "  \"\u001b[32mpackage_id\u001b[0m\" : \u001b[31m\"59\"\u001b[0m,\n",
      "  \"\u001b[32mparent_id\u001b[0m\" : \u001b[0mnull\u001b[0m,\n",
      "  \"\u001b[32mpath\u001b[0m\" : \u001b[0mnull\u001b[0m,\n",
      "  \"\u001b[32mrobes\u001b[0m\" : \u001b[0mnull\u001b[0m,\n",
      "  \"\u001b[32mtoDate\u001b[0m\" : \u001b[0mnull\u001b[0m,\n",
      "  \"\u001b[32mversion\u001b[0m\" : \u001b[0mnull\u001b[0m,\n",
      "  \"\u001b[32m__type__\u001b[0m\" : \"\u001b[31mClass\u001b[0m\"\n",
      "\u001b[35m}\u001b[0m\n"
     ]
    }
   ],
   "source": [
    "clasz = th.query('MyPackage:MyClass')\n",
    "prettyPrintLn(json.loads(dumper(clasz)))\n"
   ]
  },
  {
   "cell_type": "code",
   "execution_count": null,
   "id": "edd59ce3",
   "metadata": {},
   "outputs": [],
   "source": []
  }
 ],
 "metadata": {
  "kernelspec": {
   "display_name": "Python 3 (ipykernel)",
   "language": "python",
   "name": "python3"
  },
  "language_info": {
   "codemirror_mode": {
    "name": "ipython",
    "version": 3
   },
   "file_extension": ".py",
   "mimetype": "text/x-python",
   "name": "python",
   "nbconvert_exporter": "python",
   "pygments_lexer": "ipython3",
   "version": "3.9.13"
  }
 },
 "nbformat": 4,
 "nbformat_minor": 5
}
